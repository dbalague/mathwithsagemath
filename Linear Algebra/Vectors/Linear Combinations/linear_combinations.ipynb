{
 "metadata": {
  "language_info": {
   "codemirror_mode": {
    "name": "ipython",
    "version": 3
   },
   "file_extension": ".py",
   "mimetype": "text/x-python",
   "name": "python",
   "nbconvert_exporter": "python",
   "pygments_lexer": "ipython3",
   "version": "3.7.3-final"
  },
  "orig_nbformat": 2,
  "kernelspec": {
   "name": "sagemath-vscode",
   "display_name": "SageMath 9.0 for VSCode"
  }
 },
 "nbformat": 4,
 "nbformat_minor": 2,
 "cells": [
  {
   "cell_type": "markdown",
   "metadata": {},
   "source": [
    "# Linear Combinations\n",
    "\n",
    "## Example 1\n",
    "To show that the vector $\\mathbf{v}=\\begin{bmatrix}7\\\\7\\\\15\\end{bmatrix}$ is a linear combination of the vectors $\\mathbf{v}_1=\\begin{bmatrix}2\\\\3\\\\4\\end{bmatrix}$ and $\\mathbf{v}_2=\\begin{bmatrix}-1\\\\2\\\\-3\\end{bmatrix}$, we start by defining the vectors."
   ]
  },
  {
   "cell_type": "code",
   "execution_count": 1,
   "metadata": {},
   "outputs": [],
   "source": [
    "v1 = vector([2,3,4])\n",
    "v2 = vector([-1,2,-3])\n",
    "v  = vector([7,7,15]) "
   ]
  },
  {
   "cell_type": "markdown",
   "metadata": {},
   "source": [
    "Then we define the constants $c_1$ and $c_2$."
   ]
  },
  {
   "cell_type": "code",
   "execution_count": 2,
   "metadata": {},
   "outputs": [],
   "source": [
    "c1,c2 = var('c1,c2')"
   ]
  },
  {
   "cell_type": "markdown",
   "metadata": {},
   "source": [
    "Next, we define the linear combination $c_1\\mathbf{v1}+c_2\\mathbf{c}_2$."
   ]
  },
  {
   "cell_type": "code",
   "execution_count": 3,
   "metadata": {},
   "outputs": [],
   "source": [
    "lcmb = c1*v1 + c2*v2"
   ]
  },
  {
   "cell_type": "markdown",
   "metadata": {},
   "source": [
    "The next step is to define the linear system of equations that we need to solve:"
   ]
  },
  {
   "cell_type": "code",
   "execution_count": 4,
   "metadata": {},
   "outputs": [],
   "source": [
    "eq1 = v[0] == lcmb[0]\n",
    "eq2 = v[1] == lcmb[1]\n",
    "eq3 = v[2] == lcmb[2]"
   ]
  },
  {
   "cell_type": "markdown",
   "metadata": {},
   "source": [
    "And finally we solve for $c_1$ and $c_2$."
   ]
  },
  {
   "cell_type": "code",
   "execution_count": 5,
   "metadata": {},
   "outputs": [
    {
     "output_type": "execute_result",
     "data": {
      "text/plain": "[[c1 == 3, c2 == -1]]"
     },
     "metadata": {},
     "execution_count": 5
    }
   ],
   "source": [
    "solve([eq1,eq2,eq3],[c1,c2])"
   ]
  },
  {
   "cell_type": "markdown",
   "metadata": {},
   "source": [
    "We can see that $\\mathbf{v}$ is a linear combination of $\\mathbf{v}_1$ and $\\mathbf{v}_2$ with $c_1=3$ and $c_2=-1$."
   ]
  }
 ]
}