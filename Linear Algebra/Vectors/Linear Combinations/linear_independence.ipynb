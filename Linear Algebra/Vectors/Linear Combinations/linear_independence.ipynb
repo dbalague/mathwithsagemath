{
 "metadata": {
  "language_info": {
   "codemirror_mode": {
    "name": "ipython",
    "version": 3
   },
   "file_extension": ".py",
   "mimetype": "text/x-python",
   "name": "python",
   "nbconvert_exporter": "python",
   "pygments_lexer": "ipython3",
   "version": "3.7.3-final"
  },
  "orig_nbformat": 2,
  "kernelspec": {
   "name": "sagemath-vscode",
   "display_name": "SageMath 9.0 for VSCode"
  }
 },
 "nbformat": 4,
 "nbformat_minor": 2,
 "cells": [
  {
   "cell_type": "markdown",
   "metadata": {},
   "source": [
    "# Linear Independence\n",
    "\n",
    "## Example 2\n",
    "\n",
    "To show that the set $\\left\\lbrace \\begin{bmatrix}2\\\\0\\\\-1\\end{bmatrix},\\begin{bmatrix}-1\\\\0\\\\-1\\end{bmatrix},\\begin{bmatrix}1\\\\1\\\\1\\end{bmatrix} \\right\\rbrace$ is linear independent, we need to To show that the set is linearly independent, we need to show that the linear system given by\n",
    "$\\left[\\begin{array}{rrr|r}2 & -1 & 1 & 0 \\\\ 0& 0 &1 & 0 \\\\ -1 & -1 & 1 & 0\\end{array}\\right]$ has the only solution $\\begin{bmatrix}0\\\\0\\\\0\\end{bmatrix}$."
   ]
  },
  {
   "cell_type": "markdown",
   "metadata": {},
   "source": [
    "There are a few ways to do this in SageMath."
   ]
  },
  {
   "cell_type": "markdown",
   "metadata": {},
   "source": [
    "### Solution 1\n",
    "\n",
    "We define the matrix $\\left[\\begin{array}{rrr|r}2 & -1 & 1 & 0 \\\\ 0& 0 &1 & 0 \\\\ -1 & -1 & 1 & 0\\end{array}\\right]$"
   ]
  },
  {
   "cell_type": "code",
   "execution_count": 1,
   "metadata": {},
   "outputs": [],
   "source": [
    "A=matrix([[2,-1,-1,0],[0,0,1,0],[-1,-1,1,0]])"
   ]
  },
  {
   "cell_type": "markdown",
   "metadata": {},
   "source": [
    "We solve the system performing row operations.\n",
    "\n",
    "- Swap row 2 and row 3\n",
    "- Swap row 1 and 2\n",
    "- Add twice row 1 to row 2"
   ]
  },
  {
   "cell_type": "code",
   "execution_count": 2,
   "metadata": {},
   "outputs": [],
   "source": [
    "A.swap_rows(1,2)\n",
    "A.swap_rows(0,1)\n",
    "A.add_multiple_of_row(1,0,2)"
   ]
  },
  {
   "cell_type": "code",
   "execution_count": 3,
   "metadata": {},
   "outputs": [
    {
     "output_type": "execute_result",
     "data": {
      "text/plain": "[-1 -1  1  0]\n[ 0 -3  1  0]\n[ 0  0  1  0]"
     },
     "metadata": {},
     "execution_count": 3
    }
   ],
   "source": [
    "A"
   ]
  },
  {
   "cell_type": "markdown",
   "metadata": {},
   "source": [
    "From the matrix above we can deduce that $x_3=0$, $x_2=0$, and $x_1=0$."
   ]
  },
  {
   "cell_type": "markdown",
   "metadata": {},
   "source": [
    "### Solution 2"
   ]
  },
  {
   "cell_type": "markdown",
   "metadata": {},
   "source": [
    "We define the matrix $\\left[\\begin{array}{rrr}2 & -1 & 1  \\\\ 0& 0 &1  \\\\ -1 & -1 & 1 \\end{array}\\right]$ and we solve the system $A\\mathbf{x}=\\mathbf{0}$."
   ]
  },
  {
   "cell_type": "code",
   "execution_count": 4,
   "metadata": {},
   "outputs": [
    {
     "output_type": "execute_result",
     "data": {
      "text/plain": "(0, 0, 0)"
     },
     "metadata": {},
     "execution_count": 4
    }
   ],
   "source": [
    "A = matrix([[2,-1,1],[0,0,1],[-1,-1,1]])\n",
    "b = vector([0,0,0])\n",
    "\n",
    "A\\b"
   ]
  },
  {
   "cell_type": "markdown",
   "metadata": {},
   "source": [
    "We see that the solution os the trivial solution."
   ]
  }
 ]
}