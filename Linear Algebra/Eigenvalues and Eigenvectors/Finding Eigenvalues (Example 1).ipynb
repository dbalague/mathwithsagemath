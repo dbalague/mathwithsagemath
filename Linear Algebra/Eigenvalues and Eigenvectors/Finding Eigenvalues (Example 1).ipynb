{
 "cells": [
  {
   "cell_type": "markdown",
   "metadata": {},
   "source": [
    "# Example 1"
   ]
  },
  {
   "cell_type": "markdown",
   "metadata": {},
   "source": [
    "Find the eigenvalues and a corresponding eigenvector of the matrix\n",
    "$$\n",
    "A = \\begin{pmatrix}\n",
    "7 & -5 \\\\\n",
    "10 & -8\n",
    "\\end{pmatrix}\n",
    "$$"
   ]
  },
  {
   "cell_type": "markdown",
   "metadata": {},
   "source": [
    "## Eigenvalues"
   ]
  },
  {
   "cell_type": "markdown",
   "metadata": {},
   "source": [
    "- First we store the matrix $A$ (by rows) in the corresponding variable:"
   ]
  },
  {
   "cell_type": "code",
   "execution_count": 1,
   "metadata": {},
   "outputs": [],
   "source": [
    "A = matrix([[ 7, -5], \\\n",
    "            [10, -8]])"
   ]
  },
  {
   "cell_type": "markdown",
   "metadata": {},
   "source": [
    "- Then, we will start by finding the matrix $A-\\lambda I$ and store it in the variable `AmlI`:"
   ]
  },
  {
   "cell_type": "code",
   "execution_count": 2,
   "metadata": {},
   "outputs": [],
   "source": [
    "var('l')\n",
    "AmlI = A - l*identity_matrix(2)"
   ]
  },
  {
   "cell_type": "code",
   "execution_count": 3,
   "metadata": {},
   "outputs": [
    {
     "data": {
      "text/html": [
       "<html><script type=\"math/tex; mode=display\">\\newcommand{\\Bold}[1]{\\mathbf{#1}}\\left(\\begin{array}{rr}\n",
       "-l + 7 & -5 \\\\\n",
       "10 & -l - 8\n",
       "\\end{array}\\right)</script></html>"
      ],
      "text/plain": [
       "[-l + 7     -5]\n",
       "[    10 -l - 8]"
      ]
     },
     "metadata": {},
     "output_type": "display_data"
    }
   ],
   "source": [
    "show(AmlI)"
   ]
  },
  {
   "cell_type": "markdown",
   "metadata": {},
   "source": [
    "- Find the characteristic polynomial by calculating the determinant:"
   ]
  },
  {
   "cell_type": "code",
   "execution_count": 4,
   "metadata": {},
   "outputs": [
    {
     "data": {
      "text/html": [
       "<html><script type=\"math/tex; mode=display\">\\newcommand{\\Bold}[1]{\\mathbf{#1}}l^{2} + l - 6</script></html>"
      ],
      "text/plain": [
       "l^2 + l - 6"
      ]
     },
     "metadata": {},
     "output_type": "display_data"
    }
   ],
   "source": [
    "p(l) = AmlI.determinant()\n",
    "show(p(l).expand())"
   ]
  },
  {
   "cell_type": "markdown",
   "metadata": {},
   "source": [
    "- Find the zeros of the polynomial.\n",
    "\n",
    "  In our case:\n",
    "  - $l=2$ is a zero since $p(2) = 0$.\n",
    "  - $l=-3$ is a zero since $p(-3) = 0$.  "
   ]
  },
  {
   "cell_type": "markdown",
   "metadata": {},
   "source": [
    "The eigenvalues are $l=2$, $l=-3$."
   ]
  },
  {
   "cell_type": "markdown",
   "metadata": {},
   "source": [
    "## Eigenvectors"
   ]
  },
  {
   "cell_type": "markdown",
   "metadata": {},
   "source": [
    "### Eigenvector with associated eigenvalue $l=2$."
   ]
  },
  {
   "cell_type": "markdown",
   "metadata": {},
   "source": [
    "- We substitue $l=2$ into $A-\\lambda I$ and we will store the result into the variable `L1`:"
   ]
  },
  {
   "cell_type": "code",
   "execution_count": 5,
   "metadata": {},
   "outputs": [
    {
     "data": {
      "text/html": [
       "<html><script type=\"math/tex; mode=display\">\\newcommand{\\Bold}[1]{\\mathbf{#1}}\\left(\\begin{array}{rr}\n",
       "5 & -5 \\\\\n",
       "10 & -10\n",
       "\\end{array}\\right)</script></html>"
      ],
      "text/plain": [
       "[  5  -5]\n",
       "[ 10 -10]"
      ]
     },
     "metadata": {},
     "output_type": "display_data"
    }
   ],
   "source": [
    "L1 = AmlI(l=2)\n",
    "show(L1)"
   ]
  },
  {
   "cell_type": "markdown",
   "metadata": {},
   "source": [
    "- Now we multiply the matrix by the column vector $\\begin{pmatrix}x\\\\y\\end{pmatrix}$."
   ]
  },
  {
   "cell_type": "code",
   "execution_count": 6,
   "metadata": {},
   "outputs": [
    {
     "data": {
      "text/html": [
       "<html><script type=\"math/tex; mode=display\">\\newcommand{\\Bold}[1]{\\mathbf{#1}}\\left(\\begin{array}{r}\n",
       "5 \\, x - 5 \\, y \\\\\n",
       "10 \\, x - 10 \\, y\n",
       "\\end{array}\\right)</script></html>"
      ],
      "text/plain": [
       "[  5*x - 5*y]\n",
       "[10*x - 10*y]"
      ]
     },
     "metadata": {},
     "output_type": "display_data"
    }
   ],
   "source": [
    "y = var('y')\n",
    "\n",
    "show(L1*matrix([[x],[y]]))"
   ]
  },
  {
   "cell_type": "markdown",
   "metadata": {},
   "source": [
    "   We obtain the line $y=x$, which has direction vector $\\vec{v}_1 = (1,1)$ (eigenvector)."
   ]
  },
  {
   "cell_type": "markdown",
   "metadata": {},
   "source": [
    "### Eigenvector with associated eigenvalue $l=-3$."
   ]
  },
  {
   "cell_type": "markdown",
   "metadata": {},
   "source": [
    "- We substitue $l=-3$ into $A-\\lambda I$ and we will store the result into the variable `L2`:"
   ]
  },
  {
   "cell_type": "code",
   "execution_count": 7,
   "metadata": {},
   "outputs": [
    {
     "data": {
      "text/html": [
       "<html><script type=\"math/tex; mode=display\">\\newcommand{\\Bold}[1]{\\mathbf{#1}}\\left(\\begin{array}{rr}\n",
       "10 & -5 \\\\\n",
       "10 & -5\n",
       "\\end{array}\\right)</script></html>"
      ],
      "text/plain": [
       "[10 -5]\n",
       "[10 -5]"
      ]
     },
     "metadata": {},
     "output_type": "display_data"
    }
   ],
   "source": [
    "L2 = AmlI(l=-3)\n",
    "show(L2)"
   ]
  },
  {
   "cell_type": "markdown",
   "metadata": {},
   "source": [
    "- Now we multiply the matrix by the column vector $\\begin{pmatrix}x\\\\y\\end{pmatrix}$."
   ]
  },
  {
   "cell_type": "code",
   "execution_count": 8,
   "metadata": {},
   "outputs": [
    {
     "data": {
      "text/html": [
       "<html><script type=\"math/tex; mode=display\">\\newcommand{\\Bold}[1]{\\mathbf{#1}}\\left(\\begin{array}{r}\n",
       "10 \\, x - 5 \\, y \\\\\n",
       "10 \\, x - 5 \\, y\n",
       "\\end{array}\\right)</script></html>"
      ],
      "text/plain": [
       "[10*x - 5*y]\n",
       "[10*x - 5*y]"
      ]
     },
     "metadata": {},
     "output_type": "display_data"
    }
   ],
   "source": [
    "y = var('y')\n",
    "\n",
    "show(L2*matrix([[x],[y]]))"
   ]
  },
  {
   "cell_type": "markdown",
   "metadata": {},
   "source": [
    "   We obtain the line $y=2x$, which has direction vector $\\vec{v}_2 = (1,2)$ (eigenvector)."
   ]
  }
 ],
 "metadata": {
  "kernelspec": {
   "display_name": "SageMath 9.0",
   "language": "",
   "name": "sagemath"
  },
  "language_info": {
   "codemirror_mode": {
    "name": "ipython",
    "version": 3
   },
   "file_extension": ".py",
   "mimetype": "text/x-python",
   "name": "python",
   "nbconvert_exporter": "python",
   "pygments_lexer": "ipython3",
   "version": "3.7.3"
  }
 },
 "nbformat": 4,
 "nbformat_minor": 2
}
