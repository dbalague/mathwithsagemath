{
 "cells": [
  {
   "cell_type": "markdown",
   "metadata": {},
   "source": [
    "Find the eigenvalues of the matrix\n",
    "$$\n",
    "A = \\begin{pmatrix}\n",
    "2 & -4 & 5 \\\\\n",
    "1 & -3 & 5 \\\\\n",
    "-2 & 2 & 3\n",
    "\\end{pmatrix}\n",
    "$$"
   ]
  },
  {
   "cell_type": "markdown",
   "metadata": {},
   "source": [
    "- First we store the matrix $A$ (by rows) in the corresponding variable:"
   ]
  },
  {
   "cell_type": "code",
   "execution_count": 1,
   "metadata": {},
   "outputs": [],
   "source": [
    "A = matrix([[ 2,-4, 5], \\\n",
    "           [ 1,-3, 5], \\\n",
    "           [-2, 2, 3]])"
   ]
  },
  {
   "cell_type": "markdown",
   "metadata": {},
   "source": [
    "- Then, we will start by finding the matrix $A-\\lambda I$ and store it in the variable `AmlI`:"
   ]
  },
  {
   "cell_type": "code",
   "execution_count": 2,
   "metadata": {},
   "outputs": [],
   "source": [
    "l = var('l')\n",
    "AmlI = A - l*identity_matrix(3)"
   ]
  },
  {
   "cell_type": "code",
   "execution_count": 3,
   "metadata": {},
   "outputs": [
    {
     "data": {
      "text/html": [
       "<html><script type=\"math/tex; mode=display\">\\newcommand{\\Bold}[1]{\\mathbf{#1}}\\left(\\begin{array}{rrr}\n",
       "-l + 2 & -4 & 5 \\\\\n",
       "1 & -l - 3 & 5 \\\\\n",
       "-2 & 2 & -l + 3\n",
       "\\end{array}\\right)</script></html>"
      ],
      "text/plain": [
       "[-l + 2     -4      5]\n",
       "[     1 -l - 3      5]\n",
       "[    -2      2 -l + 3]"
      ]
     },
     "metadata": {},
     "output_type": "display_data"
    }
   ],
   "source": [
    "show(AmlI)"
   ]
  },
  {
   "cell_type": "markdown",
   "metadata": {},
   "source": [
    "- Find the characteristic polynomial by calculating the determinant:"
   ]
  },
  {
   "cell_type": "code",
   "execution_count": 4,
   "metadata": {},
   "outputs": [
    {
     "data": {
      "text/html": [
       "<html><script type=\"math/tex; mode=display\">\\newcommand{\\Bold}[1]{\\mathbf{#1}}-l^{3} + 2 \\, l^{2} + 5 \\, l - 6</script></html>"
      ],
      "text/plain": [
       "-l^3 + 2*l^2 + 5*l - 6"
      ]
     },
     "metadata": {},
     "output_type": "display_data"
    }
   ],
   "source": [
    "p(l) = AmlI.determinant()\n",
    "show(p(l).expand())"
   ]
  },
  {
   "cell_type": "markdown",
   "metadata": {},
   "source": [
    "- Find the zeros of the polynomial.\n",
    "\n",
    "  In our case:\n",
    "  - $l=1$ is a zero since $p(1) = 0$.\n",
    "  - $l=3$ is a zero since $p(3) = 0$.\n",
    "  - $l=-2$ is a zero since $p(-2) = 0$.\n",
    "  "
   ]
  },
  {
   "cell_type": "markdown",
   "metadata": {},
   "source": [
    "The eigenvalues are $l=1$, $l=3$, and $l=-2$."
   ]
  }
 ],
 "metadata": {
  "kernelspec": {
   "display_name": "SageMath 9.0",
   "language": "",
   "name": "sagemath"
  },
  "language_info": {
   "codemirror_mode": {
    "name": "ipython",
    "version": 3
   },
   "file_extension": ".py",
   "mimetype": "text/x-python",
   "name": "python",
   "nbconvert_exporter": "python",
   "pygments_lexer": "ipython3",
   "version": "3.7.3"
  }
 },
 "nbformat": 4,
 "nbformat_minor": 2
}
